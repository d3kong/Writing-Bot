{
 "cells": [
  {
   "cell_type": "code",
   "execution_count": 1,
   "id": "2a04157f-6901-48f9-bfad-bacc1c00d400",
   "metadata": {},
   "outputs": [],
   "source": [
    "import pandas as pd\n",
    "import numpy as np\n",
    "from bs4 import BeautifulSoup\n",
    "import matplotlib.pyplot as plt\n",
    "import torch"
   ]
  },
  {
   "cell_type": "markdown",
   "id": "5cc731c4-dd51-4928-b6ba-66b7a347aa12",
   "metadata": {},
   "source": [
    "## Project Outline\n",
    "\n",
    "- $\\underline{\\text{underlined text}}$ means the step or \"pseudostep\" is complete\n",
    "\n",
    "#### I. Data Preparation (Training Stage 1)\n",
    "- Analyze words user uses a lot\n",
    "- Analyze sentence patterning\n",
    "- Analyze paragarph structure\n",
    "#### II. Training\n",
    "- Use writing analytics to \"train\" model in user's writing style\n",
    "- Predict the next sentence after writing, or giving bot 3-5 ($\\textit{number subject to change}$) sentences\n",
    "- Training error is marked by how much text deviates from user's likeness\n",
    "#### III. Testing\n",
    "- $\\textbf{Testing error} is marked by how much text deviates from user's likeness$\n",
    "- Test bot writing a few sentences, mark testing error\n",
    "- After testing error for first step is satisfactory, try writing a paragraph or two paragraphs, mark testing error\n",
    "- Then try writing whole essays"
   ]
  },
  {
   "cell_type": "code",
   "execution_count": null,
   "id": "54dfb964-f14f-486f-8e92-ab275ad00cce",
   "metadata": {},
   "outputs": [],
   "source": []
  }
 ],
 "metadata": {
  "kernelspec": {
   "display_name": "Python 3 (ipykernel)",
   "language": "python",
   "name": "python3"
  },
  "language_info": {
   "codemirror_mode": {
    "name": "ipython",
    "version": 3
   },
   "file_extension": ".py",
   "mimetype": "text/x-python",
   "name": "python",
   "nbconvert_exporter": "python",
   "pygments_lexer": "ipython3",
   "version": "3.12.6"
  }
 },
 "nbformat": 4,
 "nbformat_minor": 5
}
